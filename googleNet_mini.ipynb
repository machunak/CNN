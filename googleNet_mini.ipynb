{
  "nbformat": 4,
  "nbformat_minor": 0,
  "metadata": {
    "colab": {
      "provenance": [],
      "gpuType": "T4"
    },
    "kernelspec": {
      "name": "python3",
      "display_name": "Python 3"
    },
    "language_info": {
      "name": "python"
    },
    "accelerator": "GPU"
  },
  "cells": [
    {
      "cell_type": "code",
      "execution_count": 1,
      "metadata": {
        "id": "OLnGAOeTRS1Q"
      },
      "outputs": [],
      "source": [
        "import tensorflow as tf\n",
        "from tensorflow.keras import layers, models"
      ]
    },
    {
      "cell_type": "code",
      "source": [
        "(x_train, y_train), (x_test, y_test) = tf.keras.datasets.cifar100.load_data()"
      ],
      "metadata": {
        "colab": {
          "base_uri": "https://localhost:8080/"
        },
        "id": "pJMETKuzRdkl",
        "outputId": "4dc7e709-d91e-467a-e844-69c8fbc9e45b"
      },
      "execution_count": 2,
      "outputs": [
        {
          "output_type": "stream",
          "name": "stdout",
          "text": [
            "Downloading data from https://www.cs.toronto.edu/~kriz/cifar-100-python.tar.gz\n",
            "169001437/169001437 [==============================] - 6s 0us/step\n"
          ]
        }
      ]
    },
    {
      "cell_type": "code",
      "source": [
        "print(x_train.shape)\n",
        "print(y_train[:10])\n",
        "x_train = x_train / 255.\n",
        "x_test = x_test / 255."
      ],
      "metadata": {
        "colab": {
          "base_uri": "https://localhost:8080/"
        },
        "id": "rzeQOqjmR1DG",
        "outputId": "1bd70c04-6ec3-460a-9588-56805c4130bf"
      },
      "execution_count": 3,
      "outputs": [
        {
          "output_type": "stream",
          "name": "stdout",
          "text": [
            "(50000, 32, 32, 3)\n",
            "[[19]\n",
            " [29]\n",
            " [ 0]\n",
            " [11]\n",
            " [ 1]\n",
            " [86]\n",
            " [90]\n",
            " [28]\n",
            " [23]\n",
            " [31]]\n"
          ]
        }
      ]
    },
    {
      "cell_type": "code",
      "source": [
        "input_layer = layers.Input(shape = (32, 32, 3), name='start layer')\n",
        "tower_1 = layers.Conv2D(64, kernel_size = (1, 1), padding='same', activation='relu') (input_layer)\n",
        "\n",
        "tower_2 = layers.Conv2D(64, kernel_size = (1, 1), padding='same', activation='relu') (input_layer)\n",
        "tower_2 = layers.Conv2D(64, kernel_size = (3, 3), padding='same', activation='relu') (tower_2)\n",
        "\n",
        "tower_3 = layers.Conv2D(64, kernel_size = (1, 1), padding='same', activation='relu') (input_layer)\n",
        "tower_3 = layers.Conv2D(64, kernel_size = (5, 5), padding='same', activation='relu') (tower_3)\n",
        "\n",
        "tower_4 = layers.MaxPool2D(pool_size=(3, 3), strides=(1, 1), padding='same') (input_layer)\n",
        "tower_4 = layers.Conv2D(64, kernel_size = (1, 1), padding='same', activation='relu') (tower_4)\n",
        "\n",
        "concat_layer = layers.concatenate([tower_1, tower_2, tower_3, tower_4], axis=3)\n",
        "\n",
        "tower_2_1 = layers.Conv2D(120, kernel_size = (1, 1), padding='same', activation='relu') (concat_layer)\n",
        "\n",
        "tower_2_2 = layers.Conv2D(120, kernel_size = (1, 1), padding='same', activation='relu') (concat_layer)\n",
        "tower_2_2 = layers.Conv2D(120, kernel_size = (3, 3), padding='same', activation='relu') (tower_2_2)\n",
        "\n",
        "tower_2_3 = layers.Conv2D(120, kernel_size = (1, 1), padding='same', activation='relu') (concat_layer)\n",
        "tower_2_3 = layers.Conv2D(120, kernel_size = (5, 5), padding='same', activation='relu') (tower_2_3)\n",
        "\n",
        "tower_2_4 = layers.MaxPool2D(pool_size=(3, 3), strides=(1, 1), padding='same') (concat_layer)\n",
        "tower_2_4 = layers.Conv2D(120, kernel_size = (1, 1), padding='same', activation='relu') (tower_2_4)\n",
        "\n",
        "final_concat_layer = layers.concatenate([tower_2_1, tower_2_2, tower_2_3, tower_2_4], axis=3)\n",
        "average_pooling_layer = layers.AveragePooling2D(pool_size=(16, 16), strides=(16, 16))(final_concat_layer)\n",
        "flat_layer = layers.Flatten()(average_pooling_layer)\n",
        "output_layer = layers.Dense(100, activation='softmax')(flat_layer)\n",
        "\n",
        "google_net_model = models.Model(inputs = input_layer, outputs = output_layer)\n",
        "google_net_model.summary()\n",
        "\n",
        "\n"
      ],
      "metadata": {
        "colab": {
          "base_uri": "https://localhost:8080/"
        },
        "id": "STqwkWrOUD71",
        "outputId": "e24548b3-6ae6-423c-affd-b7c6c63eedeb"
      },
      "execution_count": 4,
      "outputs": [
        {
          "output_type": "stream",
          "name": "stdout",
          "text": [
            "Model: \"model\"\n",
            "__________________________________________________________________________________________________\n",
            " Layer (type)                Output Shape                 Param #   Connected to                  \n",
            "==================================================================================================\n",
            " start layer (InputLayer)    [(None, 32, 32, 3)]          0         []                            \n",
            "                                                                                                  \n",
            " conv2d_1 (Conv2D)           (None, 32, 32, 64)           256       ['start layer[0][0]']         \n",
            "                                                                                                  \n",
            " conv2d_3 (Conv2D)           (None, 32, 32, 64)           256       ['start layer[0][0]']         \n",
            "                                                                                                  \n",
            " max_pooling2d (MaxPooling2  (None, 32, 32, 3)            0         ['start layer[0][0]']         \n",
            " D)                                                                                               \n",
            "                                                                                                  \n",
            " conv2d (Conv2D)             (None, 32, 32, 64)           256       ['start layer[0][0]']         \n",
            "                                                                                                  \n",
            " conv2d_2 (Conv2D)           (None, 32, 32, 64)           36928     ['conv2d_1[0][0]']            \n",
            "                                                                                                  \n",
            " conv2d_4 (Conv2D)           (None, 32, 32, 64)           102464    ['conv2d_3[0][0]']            \n",
            "                                                                                                  \n",
            " conv2d_5 (Conv2D)           (None, 32, 32, 64)           256       ['max_pooling2d[0][0]']       \n",
            "                                                                                                  \n",
            " concatenate (Concatenate)   (None, 32, 32, 256)          0         ['conv2d[0][0]',              \n",
            "                                                                     'conv2d_2[0][0]',            \n",
            "                                                                     'conv2d_4[0][0]',            \n",
            "                                                                     'conv2d_5[0][0]']            \n",
            "                                                                                                  \n",
            " conv2d_7 (Conv2D)           (None, 32, 32, 120)          30840     ['concatenate[0][0]']         \n",
            "                                                                                                  \n",
            " conv2d_9 (Conv2D)           (None, 32, 32, 120)          30840     ['concatenate[0][0]']         \n",
            "                                                                                                  \n",
            " max_pooling2d_1 (MaxPoolin  (None, 32, 32, 256)          0         ['concatenate[0][0]']         \n",
            " g2D)                                                                                             \n",
            "                                                                                                  \n",
            " conv2d_6 (Conv2D)           (None, 32, 32, 120)          30840     ['concatenate[0][0]']         \n",
            "                                                                                                  \n",
            " conv2d_8 (Conv2D)           (None, 32, 32, 120)          129720    ['conv2d_7[0][0]']            \n",
            "                                                                                                  \n",
            " conv2d_10 (Conv2D)          (None, 32, 32, 120)          360120    ['conv2d_9[0][0]']            \n",
            "                                                                                                  \n",
            " conv2d_11 (Conv2D)          (None, 32, 32, 120)          30840     ['max_pooling2d_1[0][0]']     \n",
            "                                                                                                  \n",
            " concatenate_1 (Concatenate  (None, 32, 32, 480)          0         ['conv2d_6[0][0]',            \n",
            " )                                                                   'conv2d_8[0][0]',            \n",
            "                                                                     'conv2d_10[0][0]',           \n",
            "                                                                     'conv2d_11[0][0]']           \n",
            "                                                                                                  \n",
            " average_pooling2d (Average  (None, 2, 2, 480)            0         ['concatenate_1[0][0]']       \n",
            " Pooling2D)                                                                                       \n",
            "                                                                                                  \n",
            " flatten (Flatten)           (None, 1920)                 0         ['average_pooling2d[0][0]']   \n",
            "                                                                                                  \n",
            " dense (Dense)               (None, 100)                  192100    ['flatten[0][0]']             \n",
            "                                                                                                  \n",
            "==================================================================================================\n",
            "Total params: 945716 (3.61 MB)\n",
            "Trainable params: 945716 (3.61 MB)\n",
            "Non-trainable params: 0 (0.00 Byte)\n",
            "__________________________________________________________________________________________________\n"
          ]
        }
      ]
    },
    {
      "cell_type": "code",
      "source": [
        "google_net_model.compile(loss='sparse_categorical_crossentropy',\n",
        "                         optimizer='adam', metrics=['accuracy'])"
      ],
      "metadata": {
        "id": "YxXXHQ7ljWhO"
      },
      "execution_count": 5,
      "outputs": []
    },
    {
      "cell_type": "code",
      "source": [
        "google_net_model.fit(x_train,y_train,validation_data=(x_test,y_test),epochs=10)"
      ],
      "metadata": {
        "colab": {
          "base_uri": "https://localhost:8080/"
        },
        "id": "_nnKW-oGHRW9",
        "outputId": "20a5b88a-dbad-4ed5-a677-e21a59c289e7"
      },
      "execution_count": 6,
      "outputs": [
        {
          "output_type": "stream",
          "name": "stdout",
          "text": [
            "Epoch 1/10\n",
            "1563/1563 [==============================] - 63s 35ms/step - loss: 3.9145 - accuracy: 0.1063 - val_loss: 3.5754 - val_accuracy: 0.1589\n",
            "Epoch 2/10\n",
            "1563/1563 [==============================] - 56s 36ms/step - loss: 3.2852 - accuracy: 0.2174 - val_loss: 3.0913 - val_accuracy: 0.2585\n",
            "Epoch 3/10\n",
            "1563/1563 [==============================] - 54s 35ms/step - loss: 2.9174 - accuracy: 0.2860 - val_loss: 2.8514 - val_accuracy: 0.3055\n",
            "Epoch 4/10\n",
            "1563/1563 [==============================] - 56s 36ms/step - loss: 2.6730 - accuracy: 0.3366 - val_loss: 2.6830 - val_accuracy: 0.3410\n",
            "Epoch 5/10\n",
            "1563/1563 [==============================] - 54s 35ms/step - loss: 2.4835 - accuracy: 0.3741 - val_loss: 2.5621 - val_accuracy: 0.3648\n",
            "Epoch 6/10\n",
            "1563/1563 [==============================] - 54s 35ms/step - loss: 2.3346 - accuracy: 0.4070 - val_loss: 2.4464 - val_accuracy: 0.3951\n",
            "Epoch 7/10\n",
            "1563/1563 [==============================] - 54s 35ms/step - loss: 2.1993 - accuracy: 0.4367 - val_loss: 2.3843 - val_accuracy: 0.4034\n",
            "Epoch 8/10\n",
            "1563/1563 [==============================] - 56s 36ms/step - loss: 2.0913 - accuracy: 0.4592 - val_loss: 2.3273 - val_accuracy: 0.4187\n",
            "Epoch 9/10\n",
            "1563/1563 [==============================] - 56s 36ms/step - loss: 1.9954 - accuracy: 0.4801 - val_loss: 2.3096 - val_accuracy: 0.4218\n",
            "Epoch 10/10\n",
            "1563/1563 [==============================] - 56s 36ms/step - loss: 1.9049 - accuracy: 0.4988 - val_loss: 2.2417 - val_accuracy: 0.4375\n"
          ]
        },
        {
          "output_type": "execute_result",
          "data": {
            "text/plain": [
              "<keras.src.callbacks.History at 0x798431870250>"
            ]
          },
          "metadata": {},
          "execution_count": 6
        }
      ]
    }
  ]
}